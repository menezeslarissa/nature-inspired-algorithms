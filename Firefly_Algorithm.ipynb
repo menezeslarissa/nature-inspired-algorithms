{
  "nbformat": 4,
  "nbformat_minor": 0,
  "metadata": {
    "colab": {
      "provenance": [],
      "authorship_tag": "ABX9TyOiib60Ks7unjTpqu64OFZs",
      "include_colab_link": true
    },
    "kernelspec": {
      "name": "python3",
      "display_name": "Python 3"
    },
    "language_info": {
      "name": "python"
    }
  },
  "cells": [
    {
      "cell_type": "markdown",
      "metadata": {
        "id": "view-in-github",
        "colab_type": "text"
      },
      "source": [
        "<a href=\"https://colab.research.google.com/github/menezeslarissa/nature-inspired-algorithms/blob/main/Firefly_Algorithm.ipynb\" target=\"_parent\"><img src=\"https://colab.research.google.com/assets/colab-badge.svg\" alt=\"Open In Colab\"/></a>"
      ]
    },
    {
      "cell_type": "markdown",
      "source": [
        "# Firefly Algorithm\n",
        "\n",
        "\n",
        "Função Objetivo: Função Esfera\n",
        "\n",
        "Parâmetros:\n",
        "\n",
        "\n",
        "\n",
        "*   beta = 0.1\n",
        "*   dimensão = 10\n",
        "*   gamma = 0.1\n",
        "*   alpha0 = 1.0\n",
        "* iterações = 1000\n",
        "\n",
        "\n",
        "\n",
        "\n",
        "\n",
        "\n",
        "ref. https://journals.plos.org/plosone/article?id=10.1371/journal.pone.0112634#pone.0112634-Yang2"
      ],
      "metadata": {
        "id": "uwj4t_PAkAQk"
      }
    },
    {
      "cell_type": "markdown",
      "source": [
        "# Função Esfera\n",
        "\n",
        "\\begin{equation}\n",
        "f(x) = ​\\sum_{​​d=1​​}^{D} x^{2}_{d}\n",
        "\\end{equation}\n",
        "<br>\n",
        "A função esfera é uma função de objetivo único, onde:\n",
        "\n",
        "\\begin{equation}\n",
        " x_d \\in [-5.12,5.12]\n",
        "\\end{equation}\n",
        "\n",
        "\n",
        "\n",
        "*   Contínua\n",
        "*   Convexa\n",
        "*   Unimodal\n",
        "*   Escalável\n",
        "*   Mínimo global: (0,0)\n",
        "\n",
        "\n"
      ],
      "metadata": {
        "id": "j6JLHpSgn7ZZ"
      }
    },
    {
      "cell_type": "code",
      "source": [],
      "metadata": {
        "id": "oDFNdUUfdRI3"
      },
      "execution_count": null,
      "outputs": []
    },
    {
      "cell_type": "code",
      "source": [
        "import math\n",
        "import matplotlib as mpl\n",
        "import matplotlib.pyplot as plt\n",
        "import numpy as np\n",
        "from numpy.random import default_rng\n",
        "%matplotlib inline\n",
        "import time\n",
        "import os\n",
        "mpl.style.use('default')\n",
        "\n",
        "\n",
        "\n",
        "r = default_rng(None)"
      ],
      "metadata": {
        "id": "MgLIDJbG4AGI"
      },
      "execution_count": null,
      "outputs": []
    },
    {
      "cell_type": "code",
      "source": [
        "beta0= 1.0\n",
        "gamma=0.01\n",
        "\n",
        "\n",
        "# sphere\n",
        "def funcao_objetivo(x):\n",
        "  return np.sum(x ** 2)\n",
        "\n",
        "\n",
        "def fa(tam_populacao, dim, min_x, max_x, a, iteracoes):\n",
        "  #Inicializa a população de vagalumes\n",
        "  populacao = r.uniform(min_x, max_x, (tam_populacao, dim))\n",
        "\n",
        "  #Inicializa a intensidade de cada vagalume da população inicial\n",
        "  intensidade = np.apply_along_axis(funcao_objetivo, 1, populacao)\n",
        "  melhor = np.min(intensidade)\n",
        "\n",
        "  # Vetores que irão armazenar os valores de x e os fitness\n",
        "  vetor_valores = []\n",
        "  vetor_custos = []\n",
        "\n",
        "  iteracao = 0\n",
        "  alpha = a\n",
        "\n",
        "  while iteracao <= iteracoes:\n",
        "    # Atualizamos o fator de aleatoriedade a cada iteração\n",
        "    alpha *= 0.97\n",
        "\n",
        "    for i in range(tam_populacao):\n",
        "      for j in range(tam_populacao):\n",
        "        if intensidade[i] >= intensidade[j]:\n",
        "\n",
        "          # Distãncia entre os vagalumes\n",
        "          distancia = np.sum(np.square(populacao[i] - populacao[j]), axis=-1)\n",
        "\n",
        "          # Calcula a atratividade do vagalume\n",
        "          atratividade = beta0 * np.exp(-gamma * distancia)\n",
        "\n",
        "          # Movimento aleatório caso não exista nenhum vagalume mais brilhanete\n",
        "          step = alpha * (r.random(dim) - 0.5)\n",
        "\n",
        "          # Moimentação do vagalume i em direção ao vagalume j\n",
        "          populacao[i] += atratividade * (populacao[j] - populacao[i]) + step\n",
        "\n",
        "          # Ajusta os limites\n",
        "          populacao[i] = np.clip(populacao[i], min_x, max_x)\n",
        "\n",
        "          # Atualiza a intensidade de luz\n",
        "          intensidade[i] = funcao_objetivo(populacao[i])\n",
        "          iteracao += 1\n",
        "\n",
        "          # Atualiza o melhor vagalume\n",
        "          melhor = min(intensidade[i], melhor)\n",
        "\n",
        "          # Atualiza os vetores\n",
        "          vetor_valores.append(populacao[i])\n",
        "          vetor_custos.append(melhor)\n",
        "\n",
        "\n",
        "  return melhor, vetor_valores, vetor_custos\n"
      ],
      "metadata": {
        "id": "UUNVTKxQy-tU"
      },
      "execution_count": null,
      "outputs": []
    },
    {
      "cell_type": "code",
      "source": [
        "min_x = -5.12\n",
        "max_x = 5.12\n",
        "iteracoes = 1000\n",
        "dim=10\n",
        "\n",
        "best, valores_x, custos = fa(20, dim, min_x, max_x, 1.0, 1000)\n",
        "print(best)"
      ],
      "metadata": {
        "id": "OLJ-0Mc3P_kI",
        "colab": {
          "base_uri": "https://localhost:8080/"
        },
        "outputId": "ce57db4c-79fb-4341-f3c3-103c82d83a0a"
      },
      "execution_count": null,
      "outputs": [
        {
          "output_type": "stream",
          "name": "stdout",
          "text": [
            "0.37087934495586383\n"
          ]
        }
      ]
    },
    {
      "cell_type": "code",
      "source": [
        "print(valores_x)\n"
      ],
      "metadata": {
        "id": "Y34O7pGV4c16"
      },
      "execution_count": null,
      "outputs": []
    },
    {
      "cell_type": "code",
      "source": [
        "def plotar_funcao(custos):\n",
        "  # cria um array de numeros de 0 até o tamanho do array de custo com o intervalo de 1\n",
        "  t = np.arange(0.0, len(custos), 1)\n",
        "  plt.figure(figsize=(10,6))\n",
        "  plt.plot(t,custos,linewidth=2, marker ='.',  markerfacecolor='black')\n",
        "  plt.ylabel(\"custos\", size=12)\n",
        "  plt.title(\"Custos dos melhores valores de X por Iteração\")\n",
        "  # plt.savefig(os.path.join(output_folder, 'custos-hc_%s.png' % time.time()), bbox_inches='tight')\n",
        "  plt.show()"
      ],
      "metadata": {
        "id": "FNZ6ZXJ2PacI"
      },
      "execution_count": null,
      "outputs": []
    },
    {
      "cell_type": "code",
      "source": [
        "plotar_funcao(custos)"
      ],
      "metadata": {
        "id": "MqBFtoLHRQf9",
        "colab": {
          "base_uri": "https://localhost:8080/",
          "height": 545
        },
        "outputId": "be5313ff-2cd0-479c-92e3-49f20fd5caab"
      },
      "execution_count": null,
      "outputs": [
        {
          "output_type": "display_data",
          "data": {
            "text/plain": [
              "<Figure size 1000x600 with 1 Axes>"
            ],
            "image/png": "[encoded data removed]"
          },
          "metadata": {}
        }
      ]
    }
  ]
}